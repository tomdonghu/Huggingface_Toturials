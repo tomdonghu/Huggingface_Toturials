{
 "cells": [
  {
   "cell_type": "code",
   "execution_count": 433,
   "metadata": {},
   "outputs": [
    {
     "data": {
      "text/plain": [
       "True"
      ]
     },
     "execution_count": 433,
     "metadata": {},
     "output_type": "execute_result"
    }
   ],
   "source": [
    "import torch\n",
    "import numpy as np\n",
    "import pandas as pd\n",
    "import transformers\n",
    "from sklearn.model_selection import train_test_split\n",
    "from transformers import AutoModel, BertTokenizerFast\n",
    "from tqdm import tqdm\n",
    "torch.cuda.is_available()"
   ]
  },
  {
   "cell_type": "code",
   "execution_count": 434,
   "metadata": {},
   "outputs": [
    {
     "data": {
      "text/plain": [
       "Phrase           更加小心\n",
       "Valence_Mean    5.111\n",
       "Arousal_Mean    7.188\n",
       "Name: 1, dtype: object"
      ]
     },
     "execution_count": 434,
     "metadata": {},
     "output_type": "execute_result"
    }
   ],
   "source": [
    "CVAP_all_SD_df = pd.read_csv('../EmoBank/ChineseEmoBank/CVAP_SD/CVAP_all_SD.csv', encoding= 'utf-8',sep=\"\\t\")\n",
    "df = CVAP_all_SD_df.drop(['No.','Valence_SD', 'Arousal_SD'], axis= 1)\n",
    "df = df.iloc[:10,:]\n",
    "df = df.reset_index(drop = True)\n",
    "\n",
    "df.loc[1]"
   ]
  },
  {
   "cell_type": "code",
   "execution_count": 435,
   "metadata": {},
   "outputs": [
    {
     "name": "stdout",
     "output_type": "stream",
     "text": [
      "0     怪八卦\n",
      "7    更為不利\n",
      "2    格外小心\n",
      "9    最為不利\n",
      "4    極為小心\n",
      "3    特別小心\n",
      "6     怪小偷\n",
      "Name: Phrase, dtype: object\n"
     ]
    }
   ],
   "source": [
    "\n",
    "# 提取特徵和標籤\n",
    "#X = df[['Valence_Mean', 'Arousal_Mean']]\n",
    "#y = df['Phrase'] # 如果您的數據集中有標籤列，請替換 'label_column_name' 為您的標籤列名稱\n",
    "x = df['Phrase']\n",
    "y = df[['Valence_Mean']] # 如果您的數據集中有標籤列，請替換 'label_column_name' 為您的標籤列名稱\n",
    "\n",
    "# 將數據集分成訓練集和測試集，以 80:20 的比例分割\n",
    "x_train, x_test, y_train, y_test = train_test_split(x, y, random_state=42)\n",
    "print(x_train)\n"
   ]
  },
  {
   "cell_type": "code",
   "execution_count": 436,
   "metadata": {},
   "outputs": [],
   "source": [
    "bert = AutoModel.from_pretrained('bert-base-chinese')\n",
    "tokenizer = BertTokenizerFast.from_pretrained('bert-base-chinese')\n",
    "\n",
    "# from transformers import (\n",
    "#   BertTokenizerFast,\n",
    "#   AutoModel,\n",
    "# )\n",
    "\n",
    "# tokenizer = BertTokenizerFast.from_pretrained('bert-base-chinese')\n",
    "# bert = AutoModel.from_pretrained('ckiplab/bert-base-chinese')"
   ]
  },
  {
   "cell_type": "code",
   "execution_count": 437,
   "metadata": {},
   "outputs": [
    {
     "name": "stdout",
     "output_type": "stream",
     "text": [
      "0    3.450\n",
      "7    2.375\n",
      "2    3.950\n",
      "9    2.500\n",
      "4    3.989\n",
      "3    5.000\n",
      "6    2.900\n",
      "Name: Valence_Mean, dtype: float64\n"
     ]
    },
    {
     "data": {
      "text/plain": [
       "Valence_Mean    3.45\n",
       "Name: 0, dtype: float64"
      ]
     },
     "execution_count": 437,
     "metadata": {},
     "output_type": "execute_result"
    }
   ],
   "source": [
    "train_idx = x_train.dropna().index\n",
    "test_idx = x_test.dropna().index\n",
    "\n",
    "train_tokens = tokenizer.batch_encode_plus(x_train[train_idx].to_list(),\n",
    "                                           max_length = 50,\n",
    "                                           pad_to_max_length = True,\n",
    "                                           truncation = True)\n",
    "test_tokens = tokenizer.batch_encode_plus(x_test[test_idx].to_list(),\n",
    "                                           max_length = 50,\n",
    "                                           pad_to_max_length = True,\n",
    "                                           truncation = True)\n",
    "print(y_train['Valence_Mean'])\n",
    "# y_train = y_train.reset_index(drop = True)\n",
    "y_train.loc[0]"
   ]
  },
  {
   "cell_type": "code",
   "execution_count": 438,
   "metadata": {},
   "outputs": [],
   "source": [
    "train_seq = torch.tensor(train_tokens['input_ids'])\n",
    "train_mask = torch.tensor(train_tokens['attention_mask'])\n",
    "# print([i for i in y_train['Valence_Mean']])\n",
    "train_y = torch.tensor([i for i in y_train['Valence_Mean']])\n",
    "\n",
    "test_seq = torch.tensor(test_tokens['input_ids'])\n",
    "test_mask = torch.tensor(test_tokens['attention_mask'])\n",
    "test_y = torch.tensor([i for i in y_test['Valence_Mean']])"
   ]
  },
  {
   "cell_type": "code",
   "execution_count": 439,
   "metadata": {},
   "outputs": [],
   "source": [
    "from torch.utils.data import TensorDataset, RandomSampler, DataLoader"
   ]
  },
  {
   "cell_type": "code",
   "execution_count": 440,
   "metadata": {},
   "outputs": [],
   "source": [
    "train_data = TensorDataset(train_seq, train_mask, train_y)\n",
    "train_sampler = RandomSampler(train_data)\n",
    "trainloader = DataLoader(train_data, \n",
    "                         sampler = train_sampler,\n",
    "                         batch_size = 32)\n",
    "\n",
    "test_data = TensorDataset(test_seq, test_mask, test_y)\n",
    "test_sampler = RandomSampler(test_data)\n",
    "testloader = DataLoader(test_data, \n",
    "                         sampler = test_sampler,\n",
    "                         batch_size = 32)"
   ]
  },
  {
   "cell_type": "code",
   "execution_count": 441,
   "metadata": {},
   "outputs": [],
   "source": [
    "for param in bert.parameters():\n",
    "    param.requires_grad = False"
   ]
  },
  {
   "cell_type": "code",
   "execution_count": 442,
   "metadata": {},
   "outputs": [],
   "source": [
    "from torch import nn\n",
    "from transformers import AdamW\n",
    "import torch.nn.functional as F\n",
    "from sklearn.utils.class_weight import compute_class_weight"
   ]
  },
  {
   "cell_type": "code",
   "execution_count": 443,
   "metadata": {},
   "outputs": [],
   "source": [
    "class BertRegressor(nn.Module):\n",
    "    def __init__(self, bert):\n",
    "        super().__init__()\n",
    "        self.bert = bert\n",
    "        self.fc1 = nn.Linear(768, 1)  # output one continuous value\n",
    "    \n",
    "    def forward(self, sent_id, mask):\n",
    "        _, cls_hs = self.bert(sent_id, attention_mask=mask)\n",
    "        return self.fc1(cls_hs).squeeze()  # remove the last dimension of size 1"
   ]
  },
  {
   "cell_type": "code",
   "execution_count": 444,
   "metadata": {},
   "outputs": [],
   "source": [
    "model = BertRegressor(bert)\n",
    "model = model.cuda()"
   ]
  },
  {
   "cell_type": "code",
   "execution_count": 445,
   "metadata": {},
   "outputs": [],
   "source": [
    "optimizer = AdamW(model.parameters(), lr=1e-5)"
   ]
  },
  {
   "cell_type": "code",
   "execution_count": 446,
   "metadata": {},
   "outputs": [],
   "source": [
    "# def loss_fn(outputs, targets):\n",
    "#     return F.mse_loss(outputs, targets)"
   ]
  },
  {
   "cell_type": "code",
   "execution_count": 447,
   "metadata": {},
   "outputs": [],
   "source": [
    "criterion = nn.MSELoss()"
   ]
  },
  {
   "cell_type": "code",
   "execution_count": 448,
   "metadata": {},
   "outputs": [],
   "source": [
    "from tqdm import tqdm"
   ]
  },
  {
   "cell_type": "code",
   "execution_count": 449,
   "metadata": {},
   "outputs": [
    {
     "name": "stderr",
     "output_type": "stream",
     "text": [
      "100%|██████████| 1/1 [00:00<00:00, 43.48it/s]\n"
     ]
    },
    {
     "name": "stdout",
     "output_type": "stream",
     "text": [
      "Epoch:1\t\tTraining Loss: 15.035850524902344\n"
     ]
    },
    {
     "name": "stderr",
     "output_type": "stream",
     "text": [
      "100%|██████████| 1/1 [00:00<00:00, 41.66it/s]\n"
     ]
    },
    {
     "name": "stdout",
     "output_type": "stream",
     "text": [
      "Epoch:2\t\tTraining Loss: 14.987773895263672\n"
     ]
    },
    {
     "name": "stderr",
     "output_type": "stream",
     "text": [
      "100%|██████████| 1/1 [00:00<00:00, 45.46it/s]\n"
     ]
    },
    {
     "name": "stdout",
     "output_type": "stream",
     "text": [
      "Epoch:3\t\tTraining Loss: 14.939763069152832\n"
     ]
    },
    {
     "name": "stderr",
     "output_type": "stream",
     "text": [
      "100%|██████████| 1/1 [00:00<00:00, 41.66it/s]\n"
     ]
    },
    {
     "name": "stdout",
     "output_type": "stream",
     "text": [
      "Epoch:4\t\tTraining Loss: 14.89183235168457\n"
     ]
    },
    {
     "name": "stderr",
     "output_type": "stream",
     "text": [
      "100%|██████████| 1/1 [00:00<00:00, 37.04it/s]\n"
     ]
    },
    {
     "name": "stdout",
     "output_type": "stream",
     "text": [
      "Epoch:5\t\tTraining Loss: 14.843974113464355\n"
     ]
    },
    {
     "name": "stderr",
     "output_type": "stream",
     "text": [
      "100%|██████████| 1/1 [00:00<00:00, 45.45it/s]\n"
     ]
    },
    {
     "name": "stdout",
     "output_type": "stream",
     "text": [
      "Epoch:6\t\tTraining Loss: 14.796195983886719\n"
     ]
    },
    {
     "name": "stderr",
     "output_type": "stream",
     "text": [
      "100%|██████████| 1/1 [00:00<00:00, 47.62it/s]\n"
     ]
    },
    {
     "name": "stdout",
     "output_type": "stream",
     "text": [
      "Epoch:7\t\tTraining Loss: 14.748494148254395\n"
     ]
    },
    {
     "name": "stderr",
     "output_type": "stream",
     "text": [
      "100%|██████████| 1/1 [00:00<00:00, 47.62it/s]\n"
     ]
    },
    {
     "name": "stdout",
     "output_type": "stream",
     "text": [
      "Epoch:8\t\tTraining Loss: 14.700871467590332\n"
     ]
    },
    {
     "name": "stderr",
     "output_type": "stream",
     "text": [
      "100%|██████████| 1/1 [00:00<00:00, 47.62it/s]\n"
     ]
    },
    {
     "name": "stdout",
     "output_type": "stream",
     "text": [
      "Epoch:9\t\tTraining Loss: 14.65333080291748\n"
     ]
    },
    {
     "name": "stderr",
     "output_type": "stream",
     "text": [
      "100%|██████████| 1/1 [00:00<00:00, 47.62it/s]"
     ]
    },
    {
     "name": "stdout",
     "output_type": "stream",
     "text": [
      "Epoch:10\t\tTraining Loss: 14.605866432189941\n"
     ]
    },
    {
     "name": "stderr",
     "output_type": "stream",
     "text": [
      "\n"
     ]
    }
   ],
   "source": [
    "epochs = 10\n",
    "\n",
    "for e in range(epochs):   \n",
    "    train_loss = 0.0\n",
    "    for batch in tqdm(trainloader):\n",
    "        batch = [i.cuda() for i in batch]\n",
    "        sent_id, masks, labels = batch\n",
    "\n",
    "        optimizer.zero_grad()\n",
    "        preds = model(sent_id, masks)\n",
    "        loss = criterion(preds, labels)\n",
    "        train_loss += loss.item()\n",
    "\n",
    "        loss.backward()\n",
    "        torch.nn.utils.clip_grad_norm_(model.parameters(), 1.0)\n",
    "\n",
    "        optimizer.step()\n",
    "    print(f'Epoch:{e+1}\\t\\tTraining Loss: {train_loss / len(trainloader)}')"
   ]
  },
  {
   "cell_type": "code",
   "execution_count": 450,
   "metadata": {},
   "outputs": [
    {
     "name": "stderr",
     "output_type": "stream",
     "text": [
      "100%|██████████| 1/1 [00:00<00:00, 66.66it/s]\n"
     ]
    }
   ],
   "source": [
    "pred_label = []\n",
    "true_label = []\n",
    "for batch in tqdm(testloader):\n",
    "    batch = [i.cuda() for i in batch]\n",
    "    sent_id, masks, labels = batch\n",
    "\n",
    "    preds = model(sent_id, masks)\n",
    "    #pred_label.extend(torch.argmax(preds, axis = 1).cpu())\n",
    "    pred_label.extend(preds.cpu())\n",
    "    true_label.extend(labels.cpu())"
   ]
  },
  {
   "cell_type": "markdown",
   "metadata": {},
   "source": []
  },
  {
   "cell_type": "markdown",
   "metadata": {},
   "source": []
  }
 ],
 "metadata": {
  "kernelspec": {
   "display_name": "Python 3",
   "language": "python",
   "name": "python3"
  },
  "language_info": {
   "codemirror_mode": {
    "name": "ipython",
    "version": 3
   },
   "file_extension": ".py",
   "mimetype": "text/x-python",
   "name": "python",
   "nbconvert_exporter": "python",
   "pygments_lexer": "ipython3",
   "version": "3.8.0"
  },
  "orig_nbformat": 4,
  "vscode": {
   "interpreter": {
    "hash": "46ba907fca5953e6721f86052b9f8575b23c87f1d6e8c828f5acc984b33e1030"
   }
  }
 },
 "nbformat": 4,
 "nbformat_minor": 2
}
