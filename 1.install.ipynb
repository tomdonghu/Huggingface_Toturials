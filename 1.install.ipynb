{
 "cells": [
  {
   "cell_type": "code",
   "execution_count": 1,
   "id": "48469796",
   "metadata": {},
   "outputs": [],
   "source": [
    "#环境\n",
    "#python=3.6\n",
    "#pytorch=1.10\n",
    "#-------------------\n",
    "#python =  3.8\n",
    "#"
   ]
  },
  {
   "cell_type": "code",
   "execution_count": 2,
   "id": "c01fc811",
   "metadata": {},
   "outputs": [],
   "source": [
    "#安装transformers(hugging face model)\n",
    "#pip安装\n",
    "#pip install transformers\n",
    "\n",
    "#conda安装\n",
    "#conda install -c huggingface transformers"
   ]
  },
  {
   "cell_type": "code",
   "execution_count": 3,
   "id": "8e7adbd4",
   "metadata": {},
   "outputs": [],
   "source": [
    "#安装datasets(hugging face datasets)\n",
    "#pip安装\n",
    "#pip install datasets\n",
    "\n",
    "#conda安装\n",
    "#conda install -c huggingface -c conda-forge datasets"
   ]
  }
 ],
 "metadata": {
  "kernelspec": {
   "display_name": "Python 3",
   "language": "python",
   "name": "python3"
  },
  "language_info": {
   "codemirror_mode": {
    "name": "ipython",
    "version": 3
   },
   "file_extension": ".py",
   "mimetype": "text/x-python",
   "name": "python",
   "nbconvert_exporter": "python",
   "pygments_lexer": "ipython3",
   "version": "3.8.0"
  },
  "vscode": {
   "interpreter": {
    "hash": "46ba907fca5953e6721f86052b9f8575b23c87f1d6e8c828f5acc984b33e1030"
   }
  }
 },
 "nbformat": 4,
 "nbformat_minor": 5
}
